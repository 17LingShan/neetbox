{
 "cells": [
  {
   "cell_type": "code",
   "execution_count": 4,
   "metadata": {},
   "outputs": [],
   "source": [
    "from neetbox.logger import get_logger, Logger, IconMode, ColorMode\n",
    "from neetbox.image import ImageFolder"
   ]
  },
  {
   "attachments": {},
   "cell_type": "markdown",
   "metadata": {},
   "source": [
    "# Test Logger"
   ]
  },
  {
   "cell_type": "code",
   "execution_count": 2,
   "metadata": {},
   "outputs": [
    {
     "name": "stdout",
     "output_type": "stream",
     "text": [
      "whom\t\t|\tvisualdust using OffensiveQwQ\n",
      "machine\t\t|\tAMD64 on Intel64 Family 6 Model 151 Stepping 2, GenuineIntel\n",
      "system\t\t|\tWindows10.0.22624\n",
      "python\t\t|\t('default', 'Mar 25 2022 05:59:00'), ver 3.8.13\n",
      "\n"
     ]
    },
    {
     "data": {
      "text/plain": [
       "<neetbox.logger.Logger at 0x18e8e6b01f0>"
      ]
     },
     "execution_count": 2,
     "metadata": {},
     "output_type": "execute_result"
    }
   ],
   "source": [
    "logger0 = Logger(ic = IconMode.sakura_filled, color = ColorMode.cyan).set_log_dir(\"./logdir\")\n",
    "logger1 = Logger(f\"Tester{1}\", IconMode.java,ColorMode.blue).bind_file(\"./for_debug.txt\")\n",
    "logger2 = Logger(\"logger0's shared log_file holder\",ic=IconMode.setting,color=ColorMode.yellow).set_log_dir(\"./logdir\")\n",
    "logger0.log_os_info()"
   ]
  },
  {
   "cell_type": "code",
   "execution_count": 6,
   "metadata": {},
   "outputs": [
    {
     "name": "stdout",
     "output_type": "stream",
     "text": [
      "2023-03-05 19:53:01.544852 > \u001b[36m✿\u001b[0m\u001b[36m<module> > \u001b[0mthis message will be written to stdout and file\n",
      "2023-03-05 19:53:01.544852 > \u001b[36m✿\u001b[0m\u001b[36m<module> > \u001b[0mthis message will be written to stdout only\n",
      "raw message without icon and datetime\n",
      "2023-03-05 19:53:01.545854 > \u001b[33m⚙\u001b[0m\u001b[33mlogger0's shared log_file holder > \u001b[0mI have the same log file as logger 0\n",
      "[\u001b[31m×\u001b[0m]2023-03-05 19:53:01.545854 > \u001b[34m♨\u001b[0m\u001b[34mTester1 > \u001b[0mdebug file only message\n"
     ]
    }
   ],
   "source": [
    "logger0.log(\"this message will be written to stdout and file\")\n",
    "logger0.log(\"this message will be written to stdout only\", into_file=False)\n",
    "logger0.log(\"this message will be written to file only\", into_stdout=False)\n",
    "logger0.log(\n",
    "    \"raw message without icon and datetime\",\n",
    "    with_datetime=False,\n",
    "    with_ic=False,\n",
    "    with_identifier=False,\n",
    ")\n",
    "logger2.log(\"I have the same log file as logger 0\")\n",
    "logger1.err(\"debug file only message\")"
   ]
  },
  {
   "attachments": {},
   "cell_type": "markdown",
   "metadata": {},
   "source": [
    "# Test ImageFolder"
   ]
  },
  {
   "cell_type": "code",
   "execution_count": null,
   "metadata": {},
   "outputs": [],
   "source": [
    "image_folder = ImageFolder(folder='./your_images_folder', sub_dirs= True, async_scan= False)\n",
    "print(image_folder.get_image_list())\n",
    "image_folder.get_random_image()"
   ]
  }
 ],
 "metadata": {
  "kernelspec": {
   "display_name": "pytorch",
   "language": "python",
   "name": "python3"
  },
  "language_info": {
   "codemirror_mode": {
    "name": "ipython",
    "version": 3
   },
   "file_extension": ".py",
   "mimetype": "text/x-python",
   "name": "python",
   "nbconvert_exporter": "python",
   "pygments_lexer": "ipython3",
   "version": "3.8.13"
  },
  "orig_nbformat": 4
 },
 "nbformat": 4,
 "nbformat_minor": 2
}
