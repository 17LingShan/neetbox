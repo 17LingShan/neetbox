{
 "cells": [
  {
   "attachments": {},
   "cell_type": "markdown",
   "metadata": {},
   "source": [
    "# Test Logger"
   ]
  },
  {
   "cell_type": "code",
   "execution_count": 1,
   "metadata": {},
   "outputs": [
    {
     "name": "stderr",
     "output_type": "stream",
     "text": [
      "c:\\Users\\visualdust\\.conda\\envs\\pytorch\\lib\\site-packages\\numpy\\_distributor_init.py:30: UserWarning: loaded more than 1 DLL from .libs:\n",
      "c:\\Users\\visualdust\\.conda\\envs\\pytorch\\lib\\site-packages\\numpy\\.libs\\libopenblas.FB5AE2TYXYH2IJRDKGDGQ3XBKLKTF43H.gfortran-win_amd64.dll\n",
      "c:\\Users\\visualdust\\.conda\\envs\\pytorch\\lib\\site-packages\\numpy\\.libs\\libopenblas64__v0.3.21-gcc_10_3_0.dll\n",
      "  warnings.warn(\"loaded more than 1 DLL from .libs:\"\n"
     ]
    },
    {
     "ename": "ModuleNotFoundError",
     "evalue": "No module named 'neetbox.logger'",
     "output_type": "error",
     "traceback": [
      "\u001b[1;31m---------------------------------------------------------------------------\u001b[0m",
      "\u001b[1;31mModuleNotFoundError\u001b[0m                       Traceback (most recent call last)",
      "Cell \u001b[1;32mIn[1], line 1\u001b[0m\n\u001b[1;32m----> 1\u001b[0m \u001b[39mfrom\u001b[39;00m \u001b[39mneetbox\u001b[39;00m\u001b[39m.\u001b[39;00m\u001b[39mlogging\u001b[39;00m \u001b[39mimport\u001b[39;00m logger, get_logger\n\u001b[0;32m      3\u001b[0m logger\u001b[39m.\u001b[39mlog_os_info()\n\u001b[0;32m      5\u001b[0m \u001b[39mclass\u001b[39;00m \u001b[39mAClass\u001b[39;00m():\n",
      "File \u001b[1;32me:\\projects\\neetbox\\neetbox\\__init__.py:2\u001b[0m\n\u001b[0;32m      1\u001b[0m \u001b[39mimport\u001b[39;00m \u001b[39mlogging\u001b[39;00m\n\u001b[1;32m----> 2\u001b[0m \u001b[39mfrom\u001b[39;00m \u001b[39m.\u001b[39;00m\u001b[39mimage\u001b[39;00m \u001b[39mimport\u001b[39;00m ImageFolder\n\u001b[0;32m      3\u001b[0m \u001b[39mfrom\u001b[39;00m \u001b[39m.\u001b[39;00m\u001b[39mplot\u001b[39;00m \u001b[39mimport\u001b[39;00m draw_split_x_plot\n",
      "File \u001b[1;32me:\\projects\\neetbox\\neetbox\\image.py:5\u001b[0m\n\u001b[0;32m      3\u001b[0m \u001b[39mimport\u001b[39;00m \u001b[39mos\u001b[39;00m\n\u001b[0;32m      4\u001b[0m \u001b[39mimport\u001b[39;00m \u001b[39mnumpy\u001b[39;00m \u001b[39mas\u001b[39;00m \u001b[39mnp\u001b[39;00m\n\u001b[1;32m----> 5\u001b[0m \u001b[39mfrom\u001b[39;00m \u001b[39mneetbox\u001b[39;00m\u001b[39m.\u001b[39;00m\u001b[39mcore\u001b[39;00m \u001b[39mimport\u001b[39;00m \u001b[39m*\u001b[39m\n\u001b[0;32m      7\u001b[0m logger \u001b[39m=\u001b[39m get_static_logger()\n\u001b[0;32m      9\u001b[0m \u001b[39mclass\u001b[39;00m \u001b[39mImageFolder\u001b[39;00m:\n",
      "File \u001b[1;32me:\\projects\\neetbox\\neetbox\\core.py:1\u001b[0m\n\u001b[1;32m----> 1\u001b[0m \u001b[39mfrom\u001b[39;00m \u001b[39mneetbox\u001b[39;00m\u001b[39m.\u001b[39;00m\u001b[39mlogger\u001b[39;00m\u001b[39m.\u001b[39;00m\u001b[39mlogger\u001b[39;00m \u001b[39mimport\u001b[39;00m get_logger\n\u001b[0;32m      3\u001b[0m _static_logger \u001b[39m=\u001b[39m get_logger(whom\u001b[39m=\u001b[39m\u001b[39m\"\u001b[39m\u001b[39mNEETBOX\u001b[39m\u001b[39m\"\u001b[39m)\n\u001b[0;32m      4\u001b[0m \u001b[39mdef\u001b[39;00m \u001b[39mget_static_logger\u001b[39m():\n",
      "\u001b[1;31mModuleNotFoundError\u001b[0m: No module named 'neetbox.logger'"
     ]
    }
   ],
   "source": [
    "from neetbox.logging import logger, get_logger\n",
    "\n",
    "logger.log_os_info()\n",
    "\n",
    "class AClass():\n",
    "    def __init__(self) -> None:\n",
    "        self.logger = get_logger()\n",
    "        self.logger.log(\"Class A Ready.\")\n",
    "        self.post_processing()\n",
    "    def post_processing(self):\n",
    "        self.logger.log(\"Running PostProcessing...\")\n",
    "\n",
    "def get_instance_of_A():\n",
    "    logger.log(\"Buidling AClass Instance...\")\n",
    "    return AClass()\n",
    "\n",
    "a = get_instance_of_A()"
   ]
  },
  {
   "cell_type": "code",
   "execution_count": 6,
   "metadata": {},
   "outputs": [
    {
     "name": "stdout",
     "output_type": "stream",
     "text": [
      "2023-03-05 19:53:01.544852 > \u001b[36m✿\u001b[0m\u001b[36m<module> > \u001b[0mthis message will be written to stdout and file\n",
      "2023-03-05 19:53:01.544852 > \u001b[36m✿\u001b[0m\u001b[36m<module> > \u001b[0mthis message will be written to stdout only\n",
      "raw message without icon and datetime\n",
      "2023-03-05 19:53:01.545854 > \u001b[33m⚙\u001b[0m\u001b[33mlogger0's shared log_file holder > \u001b[0mI have the same log file as logger 0\n",
      "[\u001b[31m×\u001b[0m]2023-03-05 19:53:01.545854 > \u001b[34m♨\u001b[0m\u001b[34mTester1 > \u001b[0mdebug file only message\n"
     ]
    }
   ],
   "source": [
    "logger = get_logger()\n",
    "logger.set_log_dir(\"./logdir\")\n",
    "logger.log(\"this message will be written to stdout and file\")\n",
    "logger.log(\"this message will be written to stdout only\", into_file=False)\n",
    "logger.log(\"this message will be written to file only\", into_stdout=False)\n",
    "logger.log(\n",
    "    \"raw message without icon and datetime\",\n",
    "    with_datetime=False,\n",
    "    with_ic=False,\n",
    "    with_identifier=False,\n",
    ")\n",
    "logger.log(\"I have the same log file as logger 0\")\n",
    "logger.err(\"debug file only message\")"
   ]
  },
  {
   "attachments": {},
   "cell_type": "markdown",
   "metadata": {},
   "source": [
    "# Test ImageFolder"
   ]
  },
  {
   "cell_type": "code",
   "execution_count": null,
   "metadata": {},
   "outputs": [],
   "source": [
    "image_folder = ImageFolder(folder='./your_images_folder', sub_dirs= True, async_scan= False)\n",
    "print(image_folder.get_image_list())\n",
    "image_folder.get_random_image()"
   ]
  }
 ],
 "metadata": {
  "kernelspec": {
   "display_name": "pytorch",
   "language": "python",
   "name": "python3"
  },
  "language_info": {
   "codemirror_mode": {
    "name": "ipython",
    "version": 3
   },
   "file_extension": ".py",
   "mimetype": "text/x-python",
   "name": "python",
   "nbconvert_exporter": "python",
   "pygments_lexer": "ipython3",
   "version": "3.8.13"
  },
  "orig_nbformat": 4
 },
 "nbformat": 4,
 "nbformat_minor": 2
}
