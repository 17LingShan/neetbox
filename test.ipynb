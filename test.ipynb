{
 "cells": [
  {
   "cell_type": "code",
   "execution_count": 3,
   "metadata": {},
   "outputs": [],
   "source": [
    "from neetbox.logging import get_logger\n",
    "logger = get_logger(whom=\"identity name\")"
   ]
  },
  {
   "cell_type": "code",
   "execution_count": 7,
   "metadata": {},
   "outputs": [
    {
     "name": "stdout",
     "output_type": "stream",
     "text": [
      "2023-03-09-15:53:29 > \u001b[34mNEETBOX > \u001b[39msome message\n",
      "2023-03-09 > \u001b[34mNEETBOX > \u001b[39msome message\n",
      "15:53:29 > \u001b[34mNEETBOX > \u001b[39msome message\n"
     ]
    },
    {
     "data": {
      "text/plain": [
       "<neetbox.logging._logger._Logger at 0x2000af6e2b0>"
      ]
     },
     "execution_count": 7,
     "metadata": {},
     "output_type": "execute_result"
    }
   ],
   "source": [
    "logger = get_logger(whom=\"NEETBOX\", color='black')\n",
    "logger.log(\"some message\")\n",
    "logger.log(\"some message\", date_time_fmt=\"%Y-%m-%d\")\n",
    "logger.log(\"some message\", date_time_fmt=\"%H:%M:%S\")"
   ]
  }
 ],
 "metadata": {
  "kernelspec": {
   "display_name": "pytorch",
   "language": "python",
   "name": "python3"
  },
  "language_info": {
   "codemirror_mode": {
    "name": "ipython",
    "version": 3
   },
   "file_extension": ".py",
   "mimetype": "text/x-python",
   "name": "python",
   "nbconvert_exporter": "python",
   "pygments_lexer": "ipython3",
   "version": "3.8.13"
  },
  "orig_nbformat": 4
 },
 "nbformat": 4,
 "nbformat_minor": 2
}
