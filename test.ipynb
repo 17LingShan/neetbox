{
 "cells": [
  {
   "cell_type": "code",
   "execution_count": 1,
   "metadata": {},
   "outputs": [
    {
     "name": "stdout",
     "output_type": "stream",
     "text": [
      "[\u001b[32mINFO\u001b[39m]2023-03-18-15:08:30 > \u001b[33mNEETBOX\u001b[39m > Scanning installed engines... \n",
      "[\u001b[32mINFO\u001b[39m]2023-03-18-15:08:32 > \u001b[33mNEETBOX\u001b[39m > Engine.Torch is installed and supported. \n"
     ]
    }
   ],
   "source": [
    "from neetbox.torch.arch import cnn\n",
    "from neetbox.torch.profile import profile"
   ]
  },
  {
   "cell_type": "code",
   "execution_count": 4,
   "metadata": {},
   "outputs": [
    {
     "data": {
      "text/plain": [
       "ResBlock(\n",
       "  (conv1): Conv2d(64, 128, kernel_size=(3, 3), stride=(2, 2), padding=(1, 1))\n",
       "  (bn1): BatchNorm2d(128, eps=1e-05, momentum=0.1, affine=True, track_running_stats=True)\n",
       "  (relu_inplace): ReLU(inplace=True)\n",
       "  (conv2): Sequential(\n",
       "    (0): Conv2d(128, 128, kernel_size=(3, 1), stride=(1, 1), padding=(1, 0))\n",
       "    (1): Conv2d(128, 128, kernel_size=(1, 3), stride=(1, 1), padding=(0, 1))\n",
       "  )\n",
       "  (bn2): BatchNorm2d(128, eps=1e-05, momentum=0.1, affine=True, track_running_stats=True)\n",
       "  (residual): Sequential(\n",
       "    (0): Conv2d(64, 128, kernel_size=(1, 1), stride=(2, 2))\n",
       "    (1): BatchNorm2d(128, eps=1e-05, momentum=0.1, affine=True, track_running_stats=True)\n",
       "  )\n",
       ")"
      ]
     },
     "execution_count": 4,
     "metadata": {},
     "output_type": "execute_result"
    }
   ],
   "source": [
    "model = cnn.ResBlock(\n",
    "    inplanes=64,\n",
    "    outplanes=128,\n",
    "    kernel_size=3,\n",
    "    stride=2,\n",
    "    spatial_separable=True,\n",
    "    residual=True,\n",
    ").cuda()\n",
    "\n",
    "model.eval()\n"
   ]
  },
  {
   "cell_type": "code",
   "execution_count": 5,
   "metadata": {},
   "outputs": [
    {
     "name": "stdout",
     "output_type": "stream",
     "text": [
      "2023-03-18-15:09:32 > \u001b[35mNEETBOX\u001b[39m > running speedtest... \n",
      "2023-03-18-15:09:32 > \u001b[35mNEETBOX\u001b[39m > start warm up \n"
     ]
    },
    {
     "name": "stderr",
     "output_type": "stream",
     "text": [
      "100%|██████████| 10/10 [00:06<00:00,  1.47it/s]\n"
     ]
    },
    {
     "name": "stdout",
     "output_type": "stream",
     "text": [
      "2023-03-18-15:09:38 > \u001b[35mNEETBOX\u001b[39m > warm up done \n"
     ]
    },
    {
     "name": "stderr",
     "output_type": "stream",
     "text": [
      "100%|██████████| 1002/1002 [00:00<00:00, 2259.98it/s]\n"
     ]
    },
    {
     "name": "stdout",
     "output_type": "stream",
     "text": [
      "2023-03-18-15:09:39 > \u001b[35mNEETBOX\u001b[39m > average 0.0004203512668609619s per run with out put size torch.Size([1, 128, 16, 16]) \n",
      "2023-03-18-15:09:39 > \u001b[35mNEETBOX\u001b[39m > min inference time: 0.0s, Max inference time: 0.016505718231201172s \n",
      "2023-03-18-15:09:39 > \u001b[35mNEETBOX\u001b[39m > That is 2378.962736255453 frames per second \n",
      "2023-03-18-15:09:39 > \u001b[35mNEETBOX\u001b[39m > ==================================================== \n",
      "2023-03-18-15:09:39 > \u001b[35mNEETBOX\u001b[39m > running CUDA side synchronous speedtest... \n"
     ]
    },
    {
     "name": "stderr",
     "output_type": "stream",
     "text": [
      "100%|██████████| 1002/1002 [00:00<00:00, 2103.72it/s]\n"
     ]
    },
    {
     "name": "stdout",
     "output_type": "stream",
     "text": [
      "2023-03-18-15:09:39 > \u001b[35mNEETBOX\u001b[39m > average 0.0004231599741615355s per run with out put size torch.Size([1, 128, 16, 16]) \n",
      "2023-03-18-15:09:39 > \u001b[35mNEETBOX\u001b[39m > min inference time: 0.00018841600103769451s, max inference time: 0.0013217920204624534s \n",
      "2023-03-18-15:09:39 > \u001b[35mNEETBOX\u001b[39m > That is 2363.17236328125 frames per second \n",
      "[\u001b[33mWARNING\u001b[39m]2023-03-18-15:09:39 > \u001b[33mNEETBOX\u001b[39m > Seems your model has an imbalanced performance peek between CUDA side synchronous test and none-sync one. Consider raising speedtest loop times (currently 1000 +2) to have a stable result. \n",
      "[\u001b[36mDEBUG\u001b[39m]2023-03-18-15:09:40 > \u001b[39mNEETBOX\u001b[39m > Note that the CUDA side synchronous speedtest is more reliable since you are using a GPU. \n",
      "2023-03-18-15:09:40 > \u001b[35mNEETBOX\u001b[39m > ==================================================== \n",
      "2023-03-18-15:09:40 > \u001b[35mNEETBOX\u001b[39m > model profiling... \n",
      "[INFO] Register count_convNd() for <class 'torch.nn.modules.conv.Conv2d'>.\n",
      "[INFO] Register count_normalization() for <class 'torch.nn.modules.batchnorm.BatchNorm2d'>.\n",
      "[INFO] Register zero_ops() for <class 'torch.nn.modules.activation.ReLU'>.\n",
      "[INFO] Register zero_ops() for <class 'torch.nn.modules.container.Sequential'>.\n",
      "2023-03-18-15:09:40 > \u001b[35mNEETBOX\u001b[39m > Model FLOPs = 0.04653056G, params = 0.181504M \n"
     ]
    }
   ],
   "source": [
    "profile(model,input_shape=(1,64,32,32))"
   ]
  }
 ],
 "metadata": {
  "kernelspec": {
   "display_name": "pt2",
   "language": "python",
   "name": "python3"
  },
  "language_info": {
   "codemirror_mode": {
    "name": "ipython",
    "version": 3
   },
   "file_extension": ".py",
   "mimetype": "text/x-python",
   "name": "python",
   "nbconvert_exporter": "python",
   "pygments_lexer": "ipython3",
   "version": "3.8.16"
  },
  "orig_nbformat": 4
 },
 "nbformat": 4,
 "nbformat_minor": 2
}
