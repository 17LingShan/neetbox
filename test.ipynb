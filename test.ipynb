{
 "cells": [
  {
   "cell_type": "code",
   "execution_count": 1,
   "metadata": {},
   "outputs": [
    {
     "name": "stdout",
     "output_type": "stream",
     "text": [
      "2023-03-06 14:34:04.261445 > 2058875725.py > a > HELLO\n",
      "2023-03-06 14:34:04.270449 > B > __init__ > B init\n",
      "2023-03-06 14:34:04.274450 > B > test > B test\n",
      "2023-03-06 14:34:04.283953 > C > __init__ > C init\n",
      "2023-03-06 14:34:04.286957 > C > test > C test\n",
      "2023-03-06 14:34:04.297997 > 2058875725.py > d > another from d\n"
     ]
    }
   ],
   "source": [
    "from neetbox.logger import get_logger\n",
    "\n",
    "logger = get_logger()\n",
    "def a():\n",
    "    logger.log(\"HELLO\")\n",
    "a()\n",
    "\n",
    "class B:\n",
    "    def __init__(self):\n",
    "        self.logger = get_logger()\n",
    "        self.logger.log('B init')\n",
    "        self.test()\n",
    "    def test(self):\n",
    "        self.logger.log('B test')\n",
    "b = B()\n",
    "\n",
    "class C:\n",
    "    def __init__(self):\n",
    "        self.logger = get_logger()\n",
    "        self.logger.log('C init')\n",
    "        self.test()\n",
    "    def test(self):\n",
    "        self.logger.log('C test')\n",
    "c = C()\n",
    "\n",
    "def d():\n",
    "    d_logger = get_logger()\n",
    "    d_logger.log(\"another from d\")\n",
    "d()\n"
   ]
  },
  {
   "cell_type": "code",
   "execution_count": 1,
   "metadata": {},
   "outputs": [
    {
     "name": "stdout",
     "output_type": "stream",
     "text": [
      "2023-03-06 14:38:14.080536 > 1580067777.py > A > __init__ > anywhere\n"
     ]
    },
    {
     "data": {
      "text/plain": [
       "<__main__.A at 0x2598f26f9d0>"
      ]
     },
     "execution_count": 1,
     "metadata": {},
     "output_type": "execute_result"
    }
   ],
   "source": [
    "from neetbox.logger import Logger\n",
    "\n",
    "logger = Logger()\n",
    "\n",
    "class A:\n",
    "    def __init__(self) -> None:\n",
    "        logger.log(\"anywhere\")\n",
    "\n",
    "A()"
   ]
  }
 ],
 "metadata": {
  "kernelspec": {
   "display_name": "pytorch",
   "language": "python",
   "name": "python3"
  },
  "language_info": {
   "codemirror_mode": {
    "name": "ipython",
    "version": 3
   },
   "file_extension": ".py",
   "mimetype": "text/x-python",
   "name": "python",
   "nbconvert_exporter": "python",
   "pygments_lexer": "ipython3",
   "version": "3.8.13"
  },
  "orig_nbformat": 4
 },
 "nbformat": 4,
 "nbformat_minor": 2
}
